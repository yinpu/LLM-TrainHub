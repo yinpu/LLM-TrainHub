{
 "cells": [
  {
   "cell_type": "code",
   "execution_count": 1,
   "metadata": {},
   "outputs": [
    {
     "name": "stderr",
     "output_type": "stream",
     "text": [
      "/home/yinpu/miniconda3/envs/pytorch2.3/lib/python3.12/site-packages/tqdm/auto.py:21: TqdmWarning: IProgress not found. Please update jupyter and ipywidgets. See https://ipywidgets.readthedocs.io/en/stable/user_install.html\n",
      "  from .autonotebook import tqdm as notebook_tqdm\n"
     ]
    }
   ],
   "source": [
    "import torch\n",
    "from datasets import load_dataset\n",
    "from transformers import Trainer, TrainingArguments, DataCollatorForLanguageModeling\n",
    "from transformers import AutoModelForCausalLM, AutoTokenizer\n",
    "from peft import get_peft_config, get_peft_model, LoraConfig, TaskType"
   ]
  },
  {
   "cell_type": "code",
   "execution_count": 2,
   "metadata": {},
   "outputs": [],
   "source": [
    "tokenizer = AutoTokenizer.from_pretrained(\"/home/yinpu/Projects/llm-tutorial/llm-embedding/Qwen/Qwen2.5-0.5B\", trust_remote_code=True)\n",
    "\n",
    "model = AutoModelForCausalLM.from_pretrained(\"/home/yinpu/Projects/llm-tutorial/llm-embedding/Qwen/Qwen2.5-0.5B\", device_map=\"auto\", trust_remote_code=True)\n",
    "\n",
    "peft_config = LoraConfig(\n",
    "    task_type=TaskType.CAUSAL_LM, inference_mode=False, r=8, lora_alpha=32, lora_dropout=0.1\n",
    ")\n",
    "\n",
    "model = get_peft_model(model, peft_config)"
   ]
  },
  {
   "cell_type": "code",
   "execution_count": 3,
   "metadata": {},
   "outputs": [],
   "source": [
    "model_ref = AutoModelForCausalLM.from_pretrained(\"/home/yinpu/Projects/llm-tutorial/llm-embedding/Qwen/Qwen2.5-0.5B\", device_map=\"auto\", trust_remote_code=True)"
   ]
  },
  {
   "cell_type": "code",
   "execution_count": 4,
   "metadata": {},
   "outputs": [],
   "source": [
    "\n",
    "from torch.utils.data import Dataset,DataLoader\n",
    "class dpo_dataset(Dataset):\n",
    "    def __init__(self,file,tokenizer,max_seq_length):\n",
    "        self.tokenizer = tokenizer\n",
    "        self.max_seq_length = max_seq_length\n",
    "        # 打开json文件 用transformers\n",
    "        self.data_list = load_dataset(\"json\",data_files=file)['train']\n",
    "    def __len__(self):\n",
    "        return len(self.data_list)\n",
    "    def __getitem__(self,index):\n",
    "        # 取出data_list的一条数据  --> {\"chosen\":xxx,\"rejected\":xxx,\"prompt\":xxx} 一条数据是这样的格式\n",
    "        data = self.data_list[index]\n",
    "\n",
    "        # 对prompt reject和chosen进行tokenize  判断是否需要截断 保证所有的input_ids都一样 不够长度的直接padding  \n",
    "        # 适配qwen 的 template  添加eos token\n",
    "        prompt_input_ids = self.tokenizer.encode('<|im_start|>' + data['prompt'] + '<|im_end|>',add_special_tokens=False)\n",
    "        chosen_input_ids = self.tokenizer.encode(data['chosen'],add_special_tokens=False)\n",
    "        rejected_input_ids = self.tokenizer.encode(data['rejected'],add_special_tokens=False)\n",
    "\n",
    "        prompt_input_ids = prompt_input_ids + [self.tokenizer.pad_token_id]\n",
    "        # 设置labels\n",
    "        chosen_labels = [-100] * len(prompt_input_ids) + chosen_input_ids + [self.tokenizer.pad_token_id]\n",
    "        rejected_labels = [-100] * len(prompt_input_ids) + rejected_input_ids + [self.tokenizer.pad_token_id]\n",
    "        chosen_input_ids = prompt_input_ids + chosen_input_ids + [self.tokenizer.pad_token_id]\n",
    "        rejected_input_ids = prompt_input_ids + rejected_input_ids + [self.tokenizer.pad_token_id]\n",
    "\n",
    "        assert len(chosen_labels) == len(chosen_input_ids)\n",
    "        assert len(rejected_labels) == len(rejected_input_ids)\n",
    "\n",
    "        inputs = dict(\n",
    "            prompt_input_ids=prompt_input_ids,\n",
    "            prompt_attention_mask=[1]*len(prompt_input_ids),\n",
    "            chosen_input_ids=chosen_input_ids,\n",
    "            chosen_attention_mask=[1]*len(chosen_input_ids),\n",
    "            chosen_labels=chosen_labels,\n",
    "            rejected_input_ids=rejected_input_ids,\n",
    "            rejected_attention_mask=[1]*len(rejected_input_ids),\n",
    "            rejected_labels=rejected_labels,\n",
    "        )\n",
    "        return inputs\n",
    "    def map(self, func, **kwargs):\n",
    "        return self"
   ]
  },
  {
   "cell_type": "code",
   "execution_count": 5,
   "metadata": {},
   "outputs": [],
   "source": [
    "train_dataset = dpo_dataset(file = 'data.json', tokenizer = tokenizer, max_seq_length = 50)"
   ]
  },
  {
   "cell_type": "code",
   "execution_count": 9,
   "metadata": {},
   "outputs": [],
   "source": [
    "from trl import DPOTrainer, DPOConfig"
   ]
  },
  {
   "cell_type": "code",
   "execution_count": 15,
   "metadata": {},
   "outputs": [],
   "source": [
    "training_args = DPOConfig(\n",
    "        num_train_epochs = 1,\n",
    "        per_device_train_batch_size=2,\n",
    "        learning_rate=3e-4,\n",
    "        output_dir=\"./\",\n",
    "        save_total_limit = 1,\n",
    "        logging_strategy = \"steps\",\n",
    "        logging_steps = 50,\n",
    "        seed = 103,\n",
    "        fp16 = True,\n",
    "        warmup_steps = 100,\n",
    "    )"
   ]
  },
  {
   "cell_type": "code",
   "execution_count": 16,
   "metadata": {},
   "outputs": [
    {
     "name": "stderr",
     "output_type": "stream",
     "text": [
      "/home/yinpu/miniconda3/envs/pytorch2.3/lib/python3.12/site-packages/trl/trainer/dpo_trainer.py:680: UserWarning: `max_length` is not set in the DPOConfig's init it will default to `512` by default, but you should do it yourself in the future.\n",
      "  warnings.warn(\n",
      "/home/yinpu/miniconda3/envs/pytorch2.3/lib/python3.12/site-packages/trl/trainer/dpo_trainer.py:693: UserWarning: `max_prompt_length` is not set in the DPOConfig's init it will default to `128` by default, but you should do it yourself in the future.\n",
      "  warnings.warn(\n",
      "/home/yinpu/miniconda3/envs/pytorch2.3/lib/python3.12/site-packages/trl/trainer/dpo_trainer.py:728: UserWarning: When using DPODataCollatorWithPadding, you should set `remove_unused_columns=False` in your TrainingArguments we have set it for you, but you should do it yourself in the future.\n",
      "  warnings.warn(\n"
     ]
    }
   ],
   "source": [
    "dpo_trainer = DPOTrainer(\n",
    "        model,\n",
    "        model_ref,\n",
    "        beta=0.1, # DPO 的温度超参\n",
    "        train_dataset=train_dataset, # 上文准备好的数据集\n",
    "        tokenizer=tokenizer, # 分词器\n",
    "        args=training_args)"
   ]
  },
  {
   "cell_type": "code",
   "execution_count": 17,
   "metadata": {},
   "outputs": [
    {
     "name": "stderr",
     "output_type": "stream",
     "text": [
      "  0%|          | 0/12 [00:00<?, ?it/s]Could not estimate the number of tokens of the input, floating-point operations will not be computed\n",
      "100%|██████████| 12/12 [00:00<00:00, 13.01it/s]"
     ]
    },
    {
     "name": "stdout",
     "output_type": "stream",
     "text": [
      "{'train_runtime': 0.9267, 'train_samples_per_second': 24.819, 'train_steps_per_second': 12.949, 'train_loss': 0.6687090396881104, 'epoch': 1.0}\n"
     ]
    },
    {
     "name": "stderr",
     "output_type": "stream",
     "text": [
      "\n"
     ]
    },
    {
     "data": {
      "text/plain": [
       "TrainOutput(global_step=12, training_loss=0.6687090396881104, metrics={'train_runtime': 0.9267, 'train_samples_per_second': 24.819, 'train_steps_per_second': 12.949, 'total_flos': 0.0, 'train_loss': 0.6687090396881104, 'epoch': 1.0})"
      ]
     },
     "execution_count": 17,
     "metadata": {},
     "output_type": "execute_result"
    }
   ],
   "source": [
    "dpo_trainer.train()"
   ]
  },
  {
   "cell_type": "code",
   "execution_count": null,
   "metadata": {},
   "outputs": [],
   "source": []
  }
 ],
 "metadata": {
  "kernelspec": {
   "display_name": "pytorch2.3",
   "language": "python",
   "name": "python3"
  },
  "language_info": {
   "codemirror_mode": {
    "name": "ipython",
    "version": 3
   },
   "file_extension": ".py",
   "mimetype": "text/x-python",
   "name": "python",
   "nbconvert_exporter": "python",
   "pygments_lexer": "ipython3",
   "version": "3.12.4"
  }
 },
 "nbformat": 4,
 "nbformat_minor": 2
}
